{
 "cells": [
  {
   "cell_type": "markdown",
   "metadata": {
    "id": "X5NZoBfLl-Ct"
   },
   "source": [
    "**Deep Learning Lab 1:Introduction to Keras of Tensor Flow**\n",
    "\n",
    "**Part 1: Building a neural networks**\n",
    "\n",
    "Now, we are going to build a simple neural network to get a feeling of how quickly it is to accomplish this in Keras! but firstly, we should know when to use neural networks, what problems shall neural networks solve, and what are the limitations of the neural networks.\n",
    "\n",
    "\n",
    "**Problems Neural Networks Can Solve:**\n",
    "\n",
    "Neural networks can address a wide range of problems across various domains. Some common applications include:\n",
    "\n",
    "1- Classification: Identifying to which category an object belongs. This includes image and speech recognition, sentiment analysis, and more.\n",
    "\n",
    "2- Regression: Predicting a continuous quantity, such as house prices, stock market trends, or weather forecasts.\n",
    "\n",
    "3- Clustering: Grouping sets of similar data without prior knowledge of the data groups (unsupervised learning).\n",
    "\n",
    "4- Sequence Modeling: Predicting the next item in a sequence, which is crucial in language translation, text generation, and time series forecasting.\n",
    "\n",
    "5- Anomaly Detection: Identifying unusual patterns that do not conform to expected behavior. This is used in fraud detection, network security, and fault detection.\n",
    "\n",
    "6- Reinforcement Learning: Making a sequence of decisions by learning to perform tasks in environments, such as game playing and robotics.\n",
    "\n",
    "**When to Use Neural Networks:**\n",
    "\n",
    "Neural networks are particularly useful in scenarios where:\n",
    "\n",
    "1- Complex Relationships: The relationship between input and output variables is complex and not easily modeled with traditional statistical methods.\n",
    "\n",
    "2- High Dimensionality: The data has many features or dimensions, making it challenging for conventional algorithms to process efficiently.\n",
    "\n",
    "3- Large Volumes of Data: Neural networks often require substantial amounts of data to learn effectively, making them well-suited for tasks where large datasets are available.\n",
    "\n",
    "4- Nonlinearity: The problem involves nonlinear relationships that simpler models cannot capture accurately.\n",
    "\n",
    "5- Adaptability and Learning: There is a need for models that can adapt to new data without being completely retrained, through fine-tuning or transfer learning.\n",
    "\n",
    "**Limitations of Neural Networks:**\n",
    "\n",
    "While neural networks are powerful, they are not always the best choice. Considerations include:\n",
    "\n",
    "1- Overfitting: Without proper regularization, neural networks can overfit to the training data, performing poorly on unseen data.\n",
    "\n",
    "2- Interpretability: Neural networks are often considered \"black boxes\" because it can be challenging to understand how they make decisions.\n",
    "\n",
    "3- Computational Resources: Training large neural networks can be resource-intensive, requiring significant computational power and time.\n",
    "\n",
    "4- Data Requirements: They typically require large amounts of labeled data to train effectively, which might not be available for all problems.\n",
    "\n",
    "**Now, let us build our Nerual Networks with KERAS!**\n"
   ]
  },
  {
   "cell_type": "markdown",
   "metadata": {
    "id": "jq6u07D-7GFU"
   },
   "source": [
    "## What is Keras?\n",
    "- Keras + Tensorflow\n",
    "    - Tensorflow's high level framework of choice\n",
    "    - Keras is complementary to Tensorflow\n",
    "- Feature Engineering & Deep Learning\n",
    "![fe](https://github.com/goodboychan/goodboychan.github.io/blob/main/_notebooks/image/fe.png?raw=1)\n",
    "\n",
    "\n",
    "Keras and TensorFlow are two of the most popular libraries used in the field of deep learning and artificial intelligence. Both provide high-level interfaces for designing, training, and deploying machine learning models, but they serve different roles and have different characteristics.\n",
    "\n",
    "**TensorFlow:**\n",
    "\n",
    "TensorFlow is an open-source library developed by the Google Brain team. It is designed for both research and production in machine learning and deep learning. TensorFlow provides a comprehensive ecosystem of tools, libraries, and community resources that allows researchers to push the state-of-the-art in ML, and developers to easily build and deploy ML-powered applications.\n",
    "\n",
    "**Core Features:**\n",
    "\n",
    "1- Flexible: TensorFlow offers multiple levels of abstraction, so you can choose the right one for your needs. At its core, it allows for the creation of dataflow graphs that represent the computation, variables, and operations of your machine learning models.\n",
    "\n",
    "2- Performance: It is designed to be efficient, using advanced techniques such as XLA (Accelerated Linear Algebra) for optimizing computations and providing support for various types of hardware (CPUs, GPUs, and TPUs) to accelerate training and inference.\n",
    "\n",
    "3- Scalable: TensorFlow supports distributed computing, enabling it to process large datasets and train complex models faster by dividing the work across multiple devices.\n",
    "\n",
    "4- Ecosystem: It has a vast ecosystem of tools and libraries for model building (TensorFlow Core, tf.keras), model tuning (TensorBoard, TensorFlow Model Analysis), and production deployment (TensorFlow Serving, TensorFlow Lite for mobile and IoT devices).\n",
    "\n",
    "**Keras:**\n",
    "\n",
    "Keras, initially developed by François Chollet, is an open-source neural network library written in Python. It is designed to enable fast experimentation with deep neural networks, focusing on being user-friendly, modular, and extensible. In 2017, Keras was integrated into TensorFlow as tf.keras, making it TensorFlow's official high-level API.\n",
    "\n",
    "**Core Features:**\n",
    "\n",
    "1- User-Friendly: Keras has a simple, consistent interface optimized for common use cases, providing clear feedback upon user error. This makes it accessible for beginners and efficient for experts.\n",
    "\n",
    "2- Modular and Composable: Keras models are assembled from configurable building blocks with few restrictions, offering flexibility in designing complex models.\n",
    "\n",
    "3- Easy to Extend: You can write custom blocks to express new ideas for research, create new layers, loss functions, and develop state-of-the-art models.\n",
    "\n",
    "4- Runs Everywhere: As part of TensorFlow, Keras models can be run on any platform that TensorFlow supports, including desktops, servers, mobile devices, and edge devices.\n",
    "\n",
    "**Relationship between TensorFlow and Keras:**\n",
    "\n",
    "Keras is integrated into TensorFlow as tf.keras, combining Keras's ease of use and high-level APIs with TensorFlow's powerful features and scalability. This integration provides a seamless workflow from prototyping to production, with Keras serving as the interface for building and designing neural networks, while TensorFlow handles the heavy lifting of training and deploying models. Users can leverage the simplicity of Keras for model architecture and experimentation, and tap into the robust, scalable infrastructure of TensorFlow for deeper model customization, optimization, and deployment."
   ]
  },
  {
   "cell_type": "markdown",
   "metadata": {
    "id": "lHgXHKun1vxv"
   },
   "source": [
    "The Sequential model in Keras is a linear stack of layers, providing a simple way to create neural networks. It allows developers to quickly build models by adding layers in sequence. The Sequential model is especially useful for straightforward architectures without branching or multiple inputs/outputs. It's ideal for building models layer by layer in a step-wise fashion.\n",
    "\n",
    "**Sequential Model in Keras:**\n",
    "\n",
    "Usage: To use the Sequential model, you start by creating an instance of the Sequential class. Then, you can add layers to the model using the .add() method. The model expects the input shape to be specified in the first layer, but it will automatically infer the shapes of inputs for subsequent layers.\n",
    "\n",
    "**Input and Output Layers:**\n",
    "\n",
    "Input Layer: The input layer is the first layer in the model that receives the input data. In Keras, the input shape must be specified in the first layer of the Sequential model, which allows the model to automatically infer the shapes of inputs for subsequent layers. The input layer does not perform any computation but serves to specify the shape of the input data.\n",
    "\n",
    "Output Layer: The output layer is the last layer in the model and is responsible for producing the final output of the network. The choice of activation function and the number of neurons in the output layer depend on the specific task:\n",
    "\n",
    "1- For binary classification, a single neuron with a sigmoid activation function is commonly used.\n",
    "\n",
    "2- For multiclass classification, multiple neurons (equal to the number of classes) with a softmax activation function are used to output probabilities of each class.\n",
    "\n",
    "3- For regression tasks, a single neuron with no activation function (or linear activation) is used to output continuous values.\n",
    "\n",
    "\n",
    "**Dense Layers in Neural Networks:**\n",
    "\n",
    "Dense layers, also known as fully connected layers, are the most basic form of layers in neural networks. Each neuron in a dense layer receives input from all neurons of the previous layer, hence \"fully connected\". Dense layers are used to change the dimensions of your vector and can learn patterns among the input features.\n",
    "\n",
    "- Parameters:\n",
    "  - units: Number of neurons in the layer.\n",
    "  - activation: The activation function to use.\n",
    "  - input_shape: Shape of the input data (only needed for the first layer)."
   ]
  },
  {
   "cell_type": "code",
   "execution_count": 5,
   "metadata": {
    "id": "v2plmSqhXPfX",
    "ExecuteTime": {
     "end_time": "2024-03-01T10:28:58.448972Z",
     "start_time": "2024-03-01T10:28:55.092599Z"
    }
   },
   "outputs": [],
   "source": [
    "#Import the Sequential model and dense layer from Keras in Tensor Flow\n",
    "\n",
    "from tensorflow.keras.models import Sequential\n",
    "from tensorflow.keras.layers import Dense"
   ]
  },
  {
   "cell_type": "markdown",
   "metadata": {
    "id": "s2CslS8M0tru"
   },
   "source": [
    "While building a neural networks, we always need to use Activation Functions!\n",
    "\n",
    "Activation functions are a fundamental component in neural networks, playing a crucial role in enabling these models to learn and represent complex, nonlinear relationships in the data. Here's why we use activation functions:\n",
    "\n",
    "1- Introduce Non-linearity: Without activation functions, a neural network, regardless of how many layers it has, would behave just like a single-layer perceptron (linear model), limiting its ability to capture complex patterns. Activation functions allow the model to capture non-linear relationships between the input and output, making it possible to model complex functions.\n",
    "\n",
    "2- Control Output Range: Certain activation functions, like the sigmoid or tanh, constrain the output to a specific range (e.g., between 0 and 1 for sigmoid). This is particularly useful for tasks like binary classification or when the model needs to output probabilities.\n",
    "\n",
    "3= Enable Deep Learning: Deep neural networks rely on activation functions to backpropagate errors through the layers. Non-linear activation functions help in mitigating the vanishing or exploding gradient problems, thus enabling effective training of deep networks.\n",
    "\n",
    "4- Enhance Model Capacity: By introducing non-linear decision boundaries, activation functions enhance the neural network's capacity to learn from complex datasets without significantly increasing the computational cost or the number of parameters.\n",
    "\n",
    "5- Facilitate Learning Complex Patterns: The use of activation functions in hidden layers allows neural networks to learn hierarchical representations of the data. Lower layers can learn to detect simple patterns, while deeper layers can learn to understand more abstract concepts by building upon the outputs of previous layers.\n",
    "\n",
    "There are many types of activation functions which are:\n",
    "\n",
    "1- Sigmoid Function: It maps any input value to a value between 0 and 1. It's often used for binary classification problems.\n",
    "\n",
    "2- ReLU (Rectified Linear Unit): This function outputs the input directly if it's positive; otherwise, it outputs zero. It's the most widely used activation function for hidden layers because it reduces the likelihood of the vanishing gradient problem and is computationally efficient.\n",
    "\n",
    "3- Tanh (Hyperbolic Tangent): It outputs values between -1 and 1, making it more suitable than sigmoid for cases where the model needs to learn to represent negative outputs.\n",
    "\n",
    "4- Softmax: Often used in the output layer of a classifier, this function outputs a probability distribution over n different classes, with the sum of the probabilities being 1.\n",
    "\n",
    "5- Leaky ReLU: A variant of ReLU that allows a small, positive gradient when the unit is not active and the input is less than zero, addressing the \"dying ReLU\" problem."
   ]
  },
  {
   "cell_type": "code",
   "execution_count": 6,
   "metadata": {
    "id": "WUIudla7XyfN",
    "ExecuteTime": {
     "end_time": "2024-03-01T10:28:58.483389Z",
     "start_time": "2024-03-01T10:28:58.449064Z"
    }
   },
   "outputs": [],
   "source": [
    "#Create a sequential model\n",
    "model = Sequential()\n",
    "\n",
    "#Add input layer and hidder layer with 3 neuron with relu activation function\n",
    "model.add(Dense(2, input_shape=(3,), activation = \"relu\"))\n",
    "\n",
    "# Add 1 neuron as an unconstrained output layer\n",
    "model.add(Dense(1))"
   ]
  },
  {
   "cell_type": "markdown",
   "metadata": {
    "id": "DajcevLp2VHw"
   },
   "source": []
  },
  {
   "cell_type": "markdown",
   "metadata": {
    "id": "MLB4WZw321F2"
   },
   "source": [
    "Let us calculate our parameters:\n",
    "\n",
    "**First Dense Layer: model.add(Dense(2, input_shape=(3,), activation=\"relu\"))**\n",
    "\n",
    "This layer has 2 neurons, and it expects input vectors of size 3.\n",
    "Each neuron in a dense layer has a weight for each input, plus a bias term.\n",
    "Therefore, for each of the 2 neurons, you have 3 weights and 1 bias.\n",
    "Total parameters for the first layer = (Number of inputs * Number of neurons) + (Number of biases) = (3 * 2) + (2 * 1) = 6 + 2 = 8.\n",
    "\n",
    "**Second Dense Layer: model.add(Dense(1))**\n",
    "\n",
    "This layer has 1 neuron.\n",
    "The input to this layer is the output of the first layer, which has 2 neurons.\n",
    "Hence, there will be 2 weights (one for each input from the first layer's neurons) and 1 bias for the single neuron in this layer.\n",
    "Total parameters for the second layer = (Number of inputs * Number of neurons) + (Number of biases) = (2 * 1) + (1 * 1) = 2 + 1 = 3.\n",
    "\n",
    "Then the total is 11!"
   ]
  },
  {
   "cell_type": "code",
   "execution_count": 7,
   "metadata": {
    "colab": {
     "base_uri": "https://localhost:8080/"
    },
    "id": "QutBPayEjjSq",
    "outputId": "a16f90c5-1f9a-41af-b90a-c52e1597ff7b",
    "ExecuteTime": {
     "end_time": "2024-03-01T10:28:58.484718Z",
     "start_time": "2024-03-01T10:28:58.479158Z"
    }
   },
   "outputs": [
    {
     "name": "stdout",
     "output_type": "stream",
     "text": [
      "Model: \"sequential\"\n",
      "_________________________________________________________________\n",
      " Layer (type)                Output Shape              Param #   \n",
      "=================================================================\n",
      " dense (Dense)               (None, 2)                 8         \n",
      "                                                                 \n",
      " dense_1 (Dense)             (None, 1)                 3         \n",
      "                                                                 \n",
      "=================================================================\n",
      "Total params: 11 (44.00 Byte)\n",
      "Trainable params: 11 (44.00 Byte)\n",
      "Non-trainable params: 0 (0.00 Byte)\n",
      "_________________________________________________________________\n"
     ]
    }
   ],
   "source": [
    "#Print model summary showing the number of parameters\n",
    "model.summary()"
   ]
  },
  {
   "cell_type": "markdown",
   "metadata": {
    "id": "V_pQPt0eYzdP"
   },
   "source": [
    "Try to code this neural network using Keras!\n",
    "---\n",
    "### Hello neural networks!\n",
    "\n",
    "Now, try to build a network that takes two numbers as an input, passes them through a hidden layer of 10 neurons, and finally outputs a single non-constrained number.\n",
    "\n",
    "A non-constrained output can be obtained by avoiding setting an activation function in the output layer. This is useful for problems like regression, when we want our output to be able to take any non-constrained value.\n",
    "\n",
    "![net](https://github.com/goodboychan/goodboychan.github.io/blob/main/_notebooks/image/hello_nets.png?raw=1)\n",
    "\n",
    "\n",
    "\n",
    "\n"
   ]
  },
  {
   "cell_type": "code",
   "execution_count": 8,
   "metadata": {
    "colab": {
     "base_uri": "https://localhost:8080/"
    },
    "id": "VEo7n7rxhp4h",
    "outputId": "0c6466c5-b119-4fff-c4b9-60a3a50b1687",
    "ExecuteTime": {
     "end_time": "2024-03-01T10:28:58.518586Z",
     "start_time": "2024-03-01T10:28:58.486860Z"
    }
   },
   "outputs": [
    {
     "name": "stdout",
     "output_type": "stream",
     "text": [
      "Model: \"sequential_1\"\n",
      "_________________________________________________________________\n",
      " Layer (type)                Output Shape              Param #   \n",
      "=================================================================\n",
      " dense_2 (Dense)             (None, 10)                30        \n",
      "                                                                 \n",
      " dense_3 (Dense)             (None, 1)                 11        \n",
      "                                                                 \n",
      "=================================================================\n",
      "Total params: 41 (164.00 Byte)\n",
      "Trainable params: 41 (164.00 Byte)\n",
      "Non-trainable params: 0 (0.00 Byte)\n",
      "_________________________________________________________________\n"
     ]
    }
   ],
   "source": [
    "from tensorflow.keras import Sequential\n",
    "from tensorflow.keras.layers import Dense\n",
    "\n",
    "# Create a Sequential model\n",
    "model = Sequential()\n",
    "\n",
    "# Add an input layer and a hidden layer with 10 neurons\n",
    "model.add(Dense(10, input_shape=(2, ), activation='relu'))\n",
    "\n",
    "# Add a 1-neuron output layer\n",
    "model.add(Dense(1))\n",
    "\n",
    "# Summarize your model\n",
    "model.summary()"
   ]
  },
  {
   "cell_type": "markdown",
   "metadata": {
    "id": "dhU6PK3Skvef"
   },
   "source": [
    "Then, Try to code this nerual network!\n",
    "\n",
    "1.   3 Input Dimensions\n",
    "2.   Hidden Layer with 5 Neurons wit ReLU activation function\n",
    "3.   One unconstrained output\n",
    "\n",
    "\n",
    "\n",
    "\n"
   ]
  },
  {
   "cell_type": "code",
   "execution_count": 9,
   "metadata": {
    "colab": {
     "base_uri": "https://localhost:8080/"
    },
    "id": "pz7JtoY7ktDc",
    "outputId": "4f3a9c88-95f1-4857-c3bc-d8fc19c165ce",
    "ExecuteTime": {
     "end_time": "2024-03-01T10:28:58.531790Z",
     "start_time": "2024-03-01T10:28:58.505894Z"
    }
   },
   "outputs": [
    {
     "name": "stdout",
     "output_type": "stream",
     "text": [
      "Model: \"sequential_2\"\n",
      "_________________________________________________________________\n",
      " Layer (type)                Output Shape              Param #   \n",
      "=================================================================\n",
      " dense_4 (Dense)             (None, 5)                 20        \n",
      "                                                                 \n",
      " dense_5 (Dense)             (None, 1)                 6         \n",
      "                                                                 \n",
      "=================================================================\n",
      "Total params: 26 (104.00 Byte)\n",
      "Trainable params: 26 (104.00 Byte)\n",
      "Non-trainable params: 0 (0.00 Byte)\n",
      "_________________________________________________________________\n"
     ]
    }
   ],
   "source": [
    "from tensorflow.keras.models import Sequential\n",
    "from tensorflow.keras.layers import Dense\n",
    "model = Sequential()\n",
    "model.add(Dense(5, input_shape=(3,) , activation = 'relu'))\n",
    "model.add(Dense(1))\n",
    "model.summary()"
   ]
  },
  {
   "cell_type": "markdown",
   "metadata": {
    "id": "mOPLD2LKmX10"
   },
   "source": [
    "Try to code this neural network!\n",
    "\n",
    "1.   2 Input Dimensions\n",
    "2.   Hidden Layer with 3 Neurons with no activation function\n",
    "3.   One unconstrained output\n",
    "\n"
   ]
  },
  {
   "cell_type": "code",
   "execution_count": 10,
   "metadata": {
    "colab": {
     "base_uri": "https://localhost:8080/"
    },
    "id": "jkhGABU8maTQ",
    "outputId": "d8b55e6c-af06-4623-fc03-a9e0fcaa41f3",
    "ExecuteTime": {
     "end_time": "2024-03-01T10:28:58.558192Z",
     "start_time": "2024-03-01T10:28:58.521578Z"
    }
   },
   "outputs": [
    {
     "name": "stdout",
     "output_type": "stream",
     "text": [
      "Model: \"sequential_3\"\n",
      "_________________________________________________________________\n",
      " Layer (type)                Output Shape              Param #   \n",
      "=================================================================\n",
      " dense_6 (Dense)             (None, 3)                 9         \n",
      "                                                                 \n",
      " dense_7 (Dense)             (None, 1)                 4         \n",
      "                                                                 \n",
      "=================================================================\n",
      "Total params: 13 (52.00 Byte)\n",
      "Trainable params: 13 (52.00 Byte)\n",
      "Non-trainable params: 0 (0.00 Byte)\n",
      "_________________________________________________________________\n"
     ]
    }
   ],
   "source": [
    "from tensorflow.keras.models import Sequential\n",
    "from tensorflow.keras.layers import Dense\n",
    "model = Sequential()\n",
    "model.add(Dense(3, input_shape=(2,)))\n",
    "model.add(Dense(1))\n",
    "model.summary()"
   ]
  },
  {
   "cell_type": "markdown",
   "metadata": {
    "id": "dg8IY1I_nY9z"
   },
   "source": [
    "#Part 2: Model Compilation\n",
    "\n",
    "**Compiling the model with adding optimizer and loss function**\n",
    "\n",
    "**Syntax**\n",
    "\n",
    "model.compile(optimizer = 'adam' , loss = 'mse')\n",
    "\n",
    "Then, what are optimizers and activation functions?\n",
    "\n",
    "**Optimizers**\n",
    "\n",
    "Optimizers are algorithms or methods used to change the attributes of the neural network, such as weights and learning rate, to reduce the losses. Optimization is the process of minimizing (or maximizing) an objective function, which in the case of neural networks is usually the loss function, by systematically updating the network weights. The choice of optimizer can significantly affect the speed and quality of the training process.\n",
    "\n",
    "What do actually optimizers, optimize?\n",
    "\n",
    "Hyperparameters are the configuration settings used to optimize the performance of the model. For optimizers, several key hyperparameters directly influence the training process and the model's final performance:\n",
    "\n",
    "1- Learning Rate: Perhaps the most critical hyperparameter for most optimizers. It determines the size of the steps that the optimizer takes during the gradient descent process. A learning rate that's too high can cause the model to converge too quickly to a suboptimal solution, while a rate that's too low can make the training process unnecessarily slow and prone to getting stuck in local minima.\n",
    "\n",
    "2- Momentum: Used in momentum-based optimizers like SGD (Stochastic Gradient Descent) with momentum, Nesterov Accelerated Gradient (NAG), etc. It helps accelerate gradients vectors in the right directions, thus leading to faster converging. It adds a fraction of the previous update to the current update.\n",
    "\n",
    "3- Decay Rate: This is used to decrease the learning rate over time. The idea is to make larger updates at the beginning of the training process, then reduce the size of the updates as you get closer to the minimum of the loss function.\n",
    "\n",
    "4- Beta Values: Hyperparameters such as Beta1 and Beta2 are used in optimizers like Adam, RMSprop, and Adamax. They control the decay rates of moving averages of the gradient (Beta1) and the square of the gradient (Beta2), helping to stabilize the learning process.\n",
    "\n",
    "5- Epsilon: A very small number added to prevent any division by zero in the optimizer's update steps. It's used in optimizers like Adam, RMSprop, etc.\n",
    "\n",
    "6- Nesterov: A boolean value that decides whether to use Nesterov momentum or not. It's a variation of the momentum method that can provide a speed boost in the convergence of the training process.\n",
    "\n",
    "7- Learning Rate Schedule: Not a direct parameter of an optimizer but closely related. It's a strategy to adjust the learning rate over time, such as learning rate decay or cyclical learning rates. Different schedules can be considered hyperparameters that influence how an optimizer adjusts the learning rate during training.\n",
    "\n",
    "**Common Optimizers:**\n",
    "\n",
    "1- SGD (Stochastic Gradient Descent): This is a simple yet very effective optimization method. It updates the model's weights using a portion of the training data rather than the whole set to compute the gradient of the loss function. Variants of SGD, like momentum or Nesterov accelerated gradient, can help accelerate training or improve convergence.\n",
    "\n",
    "2- Adam (Adaptive Moment Estimation): Combines the best properties of the AdaGrad and RMSProp algorithms to provide an optimization algorithm that can handle sparse gradients on noisy problems. Adam is known for being robust and easy to implement, often requiring little configuration.\n",
    "\n",
    "3- RMSprop (Root Mean Square Propagation): Adapts the learning rate for each weight of the model, working well in practice and for many problems in a non-convex optimization context.\n",
    "\n",
    "4- AdaGrad (Adaptive Gradient Algorithm): Allows the learning rate to adapt based on the parameters. It performs larger updates for infrequent parameters and smaller updates for frequent ones. This makes it suitable for dealing with sparse data.\n",
    "\n",
    "**Loss Functions:**\n",
    "\n",
    "Loss functions, also known as cost functions, measure the inconsistency between the predicted value by the model and the actual target value. The loss function is used during training to evaluate the model's performance, and the objective is to minimize this function.\n",
    "\n",
    "**Common Loss Functions:**\n",
    "\n",
    "1- MSE (Mean Squared Error): Calculates the average of the squares of the errors between the predicted and actual values. It's widely used for regression problems.\n",
    "\n",
    "2- Cross-Entropy: Used for classification problems, it measures the performance of a classification model whose output is a probability value between 0 and 1. Cross-entropy loss increases as the predicted probability diverge from the actual label.\n",
    "\n",
    "3- Binary Cross-Entropy: A special case of cross-entropy used in binary classification tasks.\n",
    "\n",
    "4- Categorical Cross-Entropy: Used for multi-class classification tasks, where the target labels are one-hot encoded.\n",
    "\n",
    "5- MAE (Mean Absolute Error): Calculates the average of the absolute differences between the predicted and actual values. It's more robust to outliers than MSE.\n",
    "\n",
    "6- Mean Squared Error (MSE): It measures the average squared difference between the actual and predicted values, providing a clear indicator of model performance: the lower the MSE, the better the model's predictions match the actual data.\n",
    "\n",
    "**Usages of MSE**\n",
    "\n",
    "1- When you have a regression problem with continuous output variables.\n",
    "\n",
    "2- When you want to penalize larger errors more than smaller ones, due to its squaring of error terms.\n",
    "\n",
    "3- In models where it is important to have a differentiable loss function for efficient optimization.\n"
   ]
  },
  {
   "cell_type": "markdown",
   "metadata": {
    "id": "toOk3bMdtHiS"
   },
   "source": [
    "#Part 3: Model Training\n",
    "\n",
    "**Model Training**\n",
    "\n",
    "**Syntax**\n",
    "\n",
    "mode.fit(X_train, y_train, epochs = 5)\n",
    "\n",
    "NB:Check if the MSE is decreasing in each epoch while training\n",
    "\n",
    "Then, what does model fit do?\n",
    "\n",
    "What is overfitting?\n",
    "\n",
    "The number of epochs in the context of training a neural network refers to the number of complete passes through the entire training dataset. During the training process, the model iteratively adjusts its weights to minimize the error between its predictions and the actual target values. Each epoch consists of two main phases: a forward pass where predictions are made and a backward pass (backpropagation) where errors are propagated back through the network to update the weights.\n",
    "\n",
    "**How Epochs Affect Training:**\n",
    "\n",
    "Underfitting vs. Overfitting:\n",
    "\n",
    "1- Underfitting: If the number of epochs is too low, the model may not have enough iterations to learn the patterns in the data adequately, leading to underfitting. The model performs poorly on both the training and validation datasets.\n",
    "\n",
    "2- Overfitting: Conversely, training for too many epochs can lead to overfitting, where the model learns the noise in the training data too well, negatively impacting its performance on unseen data (validation/test set).\n",
    "\n",
    "3- Convergence: The number of epochs is crucial for allowing the model's loss function to converge to a minimum. Insufficient epochs might leave the loss function above the minimum, while too many epochs might result in negligible improvements or even overfitting.\n",
    "\n",
    "4- Computational Cost: More epochs increase the computational cost and time required for training. It's essential to find a balance where the model is adequately trained within a reasonable amount of time without wasting resources.\n",
    "\n",
    "5- Early Stopping: To mitigate the risks of overfitting while allowing the model enough epochs to learn, a technique called early stopping is often used. Early stopping monitors the model's performance on a validation set and stops training when performance begins to degrade or fails to improve significantly."
   ]
  },
  {
   "cell_type": "markdown",
   "metadata": {
    "id": "lrgPPSxptfqn"
   },
   "source": [
    "#Part 4: Model Prediction\n",
    "\n",
    "**Predict new data**\n",
    "\n",
    "**Syntax**\n",
    "\n",
    "preds = model.predict(X_test)\n",
    "\n",
    "print(preds)\n",
    "\n",
    "**What does model predict do?**\n",
    "\n",
    "Here's a step-by-step explanation of how model.predict works and its uses:\n",
    "\n",
    "1- Input Data: You provide the method with new input data. This data must have the same shape and format as the training data (excluding the target variable). For example, if your model was trained on images of size 28x28 pixels, the input data for prediction must also consist of images of size 28x28 pixels.\n",
    "\n",
    "2- Model Processing: The method feeds the input data through the model, layer by layer. The model uses the weights it learned during training to make predictions or inferences about the input data. No training or changes to the model's weights occur during this process; the model is purely in inference mode.\n",
    "\n",
    "3- Output: The output is the model's prediction based on the input data. The nature of the output depends on the model's final layer and the problem it was trained to solve. For instance:\n",
    "\n",
    "3-1- In a regression task (predicting a continuous value), the output would be the predicted value(s) for the input(s).\n",
    "\n",
    "3-2- In a binary classification task, the output might be the probability of the input belonging to the positive class.\n",
    "\n",
    "3-3- In a multiclass classification task, the output could be a probability distribution over all classes, indicating the likelihood of the input belonging to each class.\n",
    "\n",
    "4- Post-Processing: Depending on the application, further processing might be required to interpret the model's output. For example, in a classification task, you might convert the output probabilities to a class label by selecting the class with the highest probability.\n",
    "\n",
    "The model.predict method is a crucial part of deploying a trained model, allowing you to apply the model to solve real-world problems or evaluate its performance on a test dataset."
   ]
  },
  {
   "cell_type": "markdown",
   "metadata": {
    "id": "0jqqfvE0twYZ"
   },
   "source": [
    "#Part 5: Model Evaluation\n",
    "\n",
    "**Syntax**\n",
    "\n",
    "model.evaluate(X_test, y_test)\n",
    "\n",
    "**What does model evaluate do?**\n",
    "\n",
    "Here's a detailed explanation of how model.evaluate works and its purpose:\n",
    "\n",
    "1- Input Data: You provide the method with input data (features) and the corresponding target data (labels). This dataset is usually separate from the data used for training and is often referred to as the validation or test set, depending on its intended use.\n",
    "\n",
    "2- Evaluation Process: The method processes the input data through the model in a forward pass, using the learned weights, to generate predictions. Then, it compares these predictions against the actual target values using the loss function (and any additional metrics) that were specified when the model was compiled.\n",
    "\n",
    "4- Metrics Computation:\n",
    "\n",
    "4-1- Loss: The primary output of model.evaluate is the loss value, which quantifies how well the model's predictions match the actual targets. The specific form of the loss depends on the loss function defined during model compilation (e.g., MSE for regression tasks, cross-entropy for classification tasks).\n",
    "\n",
    "4-2- Additional Metrics: Besides the loss, model.evaluate can compute other performance metrics such as accuracy, precision, recall, etc., if they were specified during model compilation. These metrics provide more insight into the model's performance in specific areas, such as its ability to correctly identify positive samples or its overall accuracy across all classes.\n",
    "Output: The method returns the loss value and scores for any other metrics being evaluated. For example, if you compile your model with metrics=['accuracy'], model.evaluate will return both the loss and the accuracy of the model on the provided dataset.\n",
    "\n",
    "5- Use Cases:\n",
    "\n",
    "5-1- Validation: During training, model.evaluate can be used on a validation set to monitor the model's performance on data it hasn't seen during training, helping to detect overfitting.\n",
    "\n",
    "5-2- Testing: After training is complete, model.evaluate is often used on a test set to assess the model's generalization capability to new data."
   ]
  },
  {
   "cell_type": "markdown",
   "metadata": {
    "id": "FUJ83ZJ4u9p8"
   },
   "source": [
    "#Example 1:\n",
    "\n",
    "## Surviving a meteor strike\n",
    "\n",
    "- Scientific prediction\n",
    "\n",
    "![meteor](https://github.com/goodboychan/goodboychan.github.io/blob/main/_notebooks/image/meteor.png?raw=1)\n",
    "\n",
    "\n",
    "##Task: Save the earth by training a regression model that approximates the orbit of a meteor that is approaching us!\n",
    "\n",
    "You will build a simple regression model to predict the orbit of the meteor :)\n",
    "\n",
    "##What about the data set?\n",
    "\n",
    "Your training data consist of measurements taken at time steps from -10 minutes before the impact region to +10 minutes after. Each time step can be viewed as an X coordinate in our graph, which has an associated position Y for the meteor orbit at that time step.\n",
    "\n",
    "Note that you can view this problem as approximating a quadratic function via the use of neural networks.\n",
    "\n",
    "![meteor2](https://github.com/goodboychan/goodboychan.github.io/blob/main/_notebooks/image/meteor_orbit_3.jpg?raw=1)\n",
    "\n",
    "This data is stored in two numpy arrays: one called `time_steps` , what we call features, and another called `y_positions`, with the labels.\n",
    "\n",
    "This data is stored in two numpy arrays: one called time_steps , what we call features, and another called y_positions, with the labels. Go on and build your model! It should be able to predict the y positions for the meteor orbit at future time steps.\n",
    "\n",
    "Go on and build your model! It should be able to predict the y positions for the meteor orbit at future time steps.\n",
    "\n",
    "##Hints:\n",
    "\n",
    "- Use Keras Sequential model and Dense layers are available for you to use.\n",
    "\n",
    "- It's important to note we aren't using an activation function in our output layer since y_positions aren't bounded and they can take any value. Your model is built to perform a regression task.\n",
    "\n",
    "\n",
    "**You're going to train your first model in this course, and for a good cause!**\n",
    "\n",
    "##NB:\n",
    "\n",
    "Remember that before training your Keras models you need to compile them. This can be done with the .compile() method. The .compile() method takes arguments such as the optimizer, used for weight updating, and the loss function, which is what we want to minimize. Training your model is as easy as calling the .fit() method, passing on the features, labels and a number of epochs to train for.\n",
    "\n",
    "The regression model you built in the previous exercise is loaded for you to use, along with the time_steps and y_positions data. Train it and evaluate it on this very same data, let's see if your model can learn the meteor's trajectory."
   ]
  },
  {
   "cell_type": "markdown",
   "metadata": {
    "id": "zH2WPT9yKiiW"
   },
   "source": [
    "##Do needed imports!"
   ]
  },
  {
   "cell_type": "code",
   "execution_count": 11,
   "metadata": {
    "id": "aLjxbWoNu-5M",
    "ExecuteTime": {
     "end_time": "2024-03-01T10:28:58.729213Z",
     "start_time": "2024-03-01T10:28:58.539626Z"
    }
   },
   "outputs": [],
   "source": [
    "import numpy as np\n",
    "import pandas as pd\n",
    "import tensorflow as tf\n",
    "import matplotlib.pyplot as plt\n",
    "\n",
    "\n",
    "plt.rcParams['figure.figsize'] = (8, 8)"
   ]
  },
  {
   "cell_type": "markdown",
   "metadata": {
    "id": "BFvacosFKhWy"
   },
   "source": [
    "##NB:\n",
    "\n",
    "This data is stored in two numpy arrays: one called `time_steps` , what we call features, and another called `y_positions`, with the labels. Go on and build your model! It should be able to predict the y positions for the meteor orbit at future time steps."
   ]
  },
  {
   "cell_type": "code",
   "execution_count": 12,
   "metadata": {
    "colab": {
     "base_uri": "https://localhost:8080/",
     "height": 202
    },
    "id": "5xMf4sd1J_vv",
    "outputId": "1e683d50-81b3-430e-9891-803696c6ca34",
    "ExecuteTime": {
     "end_time": "2024-03-01T10:28:58.735881Z",
     "start_time": "2024-03-01T10:28:58.730521Z"
    }
   },
   "outputs": [
    {
     "name": "stdout",
     "output_type": "stream",
     "text": [
      "Original Data:\n",
      "   time_steps           y\n",
      "0  -10.000000  100.000000\n",
      "1   -9.989995   99.800000\n",
      "2   -9.979990   99.600200\n",
      "3   -9.969985   99.400601\n",
      "4   -9.959980   99.201201\n"
     ]
    }
   ],
   "source": [
    "# Assuming you've uploaded 'cardio_train.xlsx', read it into a pandas DataFrame\n",
    "file_name = \"orbit.csv\"  # Make sure this matches the name of the file you uploaded\n",
    "data = pd.read_csv(file_name)\n",
    "\n",
    "# Print the original data to verify it's loaded correctly\n",
    "print(\"Original Data:\")\n",
    "print(data.head())"
   ]
  },
  {
   "cell_type": "markdown",
   "metadata": {
    "id": "4dmHRrgFRz0E"
   },
   "source": [
    "##Seperate data to numpy array"
   ]
  },
  {
   "cell_type": "code",
   "execution_count": 13,
   "metadata": {
    "id": "7ZjopwizKIvo",
    "ExecuteTime": {
     "end_time": "2024-03-01T10:28:58.740274Z",
     "start_time": "2024-03-01T10:28:58.736533Z"
    }
   },
   "outputs": [],
   "source": [
    "time_steps = data['time_steps'].to_numpy()\n",
    "y_positions = data['y'].to_numpy()"
   ]
  },
  {
   "cell_type": "markdown",
   "metadata": {
    "id": "RXfuDWXuSmPn"
   },
   "source": [
    "##Build the model"
   ]
  },
  {
   "cell_type": "code",
   "execution_count": 14,
   "metadata": {
    "id": "Yo7YSdKIKK4o",
    "ExecuteTime": {
     "end_time": "2024-03-01T10:28:58.769596Z",
     "start_time": "2024-03-01T10:28:58.741967Z"
    }
   },
   "outputs": [],
   "source": [
    "# Instantiate a Sequential model\n",
    "model = Sequential()\n",
    "\n",
    "# Add a Dense layer with 50 neurons and an input of 1 neuron\n",
    "model.add(Dense(50, input_shape=(1, ), activation='relu'))\n",
    "\n",
    "# Add two Dense layers with 50 neurons and relu activation\n",
    "model.add(Dense(50, activation='relu'))\n",
    "model.add(Dense(50, activation='relu'))\n",
    "\n",
    "# End your model with a Dense layer and no activation\n",
    "model.add(Dense(1))"
   ]
  },
  {
   "cell_type": "markdown",
   "metadata": {
    "id": "YJ7iH2xISq6l"
   },
   "source": [
    "##Compile the model"
   ]
  },
  {
   "cell_type": "code",
   "execution_count": 15,
   "metadata": {
    "colab": {
     "base_uri": "https://localhost:8080/"
    },
    "id": "Bqiuc5kKKNM-",
    "outputId": "730a3cba-8512-49be-a951-394d2839ba43",
    "ExecuteTime": {
     "end_time": "2024-03-01T10:28:58.777028Z",
     "start_time": "2024-03-01T10:28:58.767247Z"
    }
   },
   "outputs": [
    {
     "name": "stdout",
     "output_type": "stream",
     "text": [
      "Training started..., this can take a while:\n"
     ]
    }
   ],
   "source": [
    "# Compile your model\n",
    "model.compile(optimizer='adam', loss='mse')\n",
    "\n",
    "print('Training started..., this can take a while:')\n",
    "\n"
   ]
  },
  {
   "cell_type": "markdown",
   "metadata": {
    "id": "JEypIJGXS1EZ"
   },
   "source": [
    "##Train and Evalute the model"
   ]
  },
  {
   "cell_type": "code",
   "execution_count": 16,
   "metadata": {
    "colab": {
     "base_uri": "https://localhost:8080/"
    },
    "id": "4fZNGTnBSw3M",
    "outputId": "b6bdfbe7-87ff-44e5-dad6-4f20cc7a4362",
    "ExecuteTime": {
     "end_time": "2024-03-01T10:28:59.975064Z",
     "start_time": "2024-03-01T10:28:58.771931Z"
    }
   },
   "outputs": [
    {
     "name": "stdout",
     "output_type": "stream",
     "text": [
      "Epoch 1/30\n",
      "63/63 [==============================] - 0s 516us/step - loss: 1743.2345\n",
      "Epoch 2/30\n",
      "63/63 [==============================] - 0s 515us/step - loss: 414.9012\n",
      "Epoch 3/30\n",
      "63/63 [==============================] - 0s 455us/step - loss: 141.5362\n",
      "Epoch 4/30\n",
      "63/63 [==============================] - 0s 456us/step - loss: 122.7782\n",
      "Epoch 5/30\n",
      "63/63 [==============================] - 0s 453us/step - loss: 98.8727\n",
      "Epoch 6/30\n",
      "63/63 [==============================] - 0s 473us/step - loss: 74.8816\n",
      "Epoch 7/30\n",
      "63/63 [==============================] - 0s 482us/step - loss: 51.8196\n",
      "Epoch 8/30\n",
      "63/63 [==============================] - 0s 478us/step - loss: 35.1737\n",
      "Epoch 9/30\n",
      "63/63 [==============================] - 0s 451us/step - loss: 20.8507\n",
      "Epoch 10/30\n",
      "63/63 [==============================] - 0s 450us/step - loss: 12.5598\n",
      "Epoch 11/30\n",
      "63/63 [==============================] - 0s 450us/step - loss: 7.9646\n",
      "Epoch 12/30\n",
      "63/63 [==============================] - 0s 889us/step - loss: 5.2214\n",
      "Epoch 13/30\n",
      "63/63 [==============================] - 0s 763us/step - loss: 3.4380\n",
      "Epoch 14/30\n",
      "63/63 [==============================] - 0s 464us/step - loss: 2.3836\n",
      "Epoch 15/30\n",
      "63/63 [==============================] - 0s 431us/step - loss: 1.8255\n",
      "Epoch 16/30\n",
      "63/63 [==============================] - 0s 446us/step - loss: 1.4124\n",
      "Epoch 17/30\n",
      "63/63 [==============================] - 0s 435us/step - loss: 1.0874\n",
      "Epoch 18/30\n",
      "63/63 [==============================] - 0s 432us/step - loss: 0.9545\n",
      "Epoch 19/30\n",
      "63/63 [==============================] - 0s 449us/step - loss: 0.8479\n",
      "Epoch 20/30\n",
      "63/63 [==============================] - 0s 503us/step - loss: 0.6431\n",
      "Epoch 21/30\n",
      "63/63 [==============================] - 0s 519us/step - loss: 0.4457\n",
      "Epoch 22/30\n",
      "63/63 [==============================] - 0s 456us/step - loss: 0.4209\n",
      "Epoch 23/30\n",
      "63/63 [==============================] - 0s 465us/step - loss: 0.3732\n",
      "Epoch 24/30\n",
      "63/63 [==============================] - 0s 479us/step - loss: 0.3291\n",
      "Epoch 25/30\n",
      "63/63 [==============================] - 0s 432us/step - loss: 0.2901\n",
      "Epoch 26/30\n",
      "63/63 [==============================] - 0s 456us/step - loss: 0.2343\n",
      "Epoch 27/30\n",
      "63/63 [==============================] - 0s 436us/step - loss: 0.2251\n",
      "Epoch 28/30\n",
      "63/63 [==============================] - 0s 457us/step - loss: 0.1821\n",
      "Epoch 29/30\n",
      "63/63 [==============================] - 0s 460us/step - loss: 0.2484\n",
      "Epoch 30/30\n",
      "63/63 [==============================] - 0s 446us/step - loss: 0.1738\n",
      "63/63 [==============================] - 0s 322us/step - loss: 0.1793\n",
      "Final loss value: 0.1793215125799179\n"
     ]
    }
   ],
   "source": [
    "# Fit your model on your data for 30 epochs\n",
    "model.fit(time_steps, y_positions, epochs=30)\n",
    "\n",
    "# Evaluate your model\n",
    "print(\"Final loss value:\", model.evaluate(time_steps, y_positions))"
   ]
  },
  {
   "cell_type": "markdown",
   "metadata": {
    "id": "OWD7dPRKTKVX"
   },
   "source": [
    "##Predict with the model"
   ]
  },
  {
   "cell_type": "code",
   "execution_count": 17,
   "metadata": {
    "id": "QJ4yEzj2KR98",
    "ExecuteTime": {
     "end_time": "2024-03-01T10:28:59.976157Z",
     "start_time": "2024-03-01T10:28:59.974230Z"
    }
   },
   "outputs": [],
   "source": [
    "def plot_orbit(model_preds):\n",
    "    axeslim = int(len(model_preds) / 2)\n",
    "    plt.plot(np.arange(-axeslim, axeslim + 1),np.arange(-axeslim, axeslim + 1) ** 2,\n",
    "             color=\"mediumslateblue\")\n",
    "    plt.plot(np.arange(-axeslim, axeslim + 1),model_preds,color=\"orange\")\n",
    "    plt.axis((-40, 41, -5, 550))\n",
    "    plt.legend([\"Scientist's Orbit\", 'Your orbit'],loc=\"lower left\")\n",
    "    plt.title(\"Predicted orbit vs Scientist's Orbit\")"
   ]
  },
  {
   "cell_type": "code",
   "execution_count": 18,
   "metadata": {
    "colab": {
     "base_uri": "https://localhost:8080/",
     "height": 717
    },
    "id": "kqKCWP1NKUdo",
    "outputId": "70e1e3ce-fd87-4362-f5d0-97b1ca5b8892",
    "ExecuteTime": {
     "end_time": "2024-03-01T10:29:00.199703Z",
     "start_time": "2024-03-01T10:28:59.976784Z"
    }
   },
   "outputs": [
    {
     "name": "stdout",
     "output_type": "stream",
     "text": [
      "3/3 [==============================] - 0s 720us/step\n"
     ]
    },
    {
     "data": {
      "text/plain": "<Figure size 800x800 with 1 Axes>",
      "image/png": "[encoded data removed]"
     },
     "metadata": {},
     "output_type": "display_data"
    }
   ],
   "source": [
    "# Predict the eighty-minute orbit\n",
    "eighty_min_orbit = model.predict(np.arange(-40, 41))\n",
    "\n",
    "# Plot the eighty-minute orbit\n",
    "plot_orbit(eighty_min_orbit)"
   ]
  },
  {
   "cell_type": "markdown",
   "metadata": {
    "id": "OGI5LwGcKZNC"
   },
   "source": [
    "Your model fits perfectly to the scientists trajectory for time values between -10 to +10, the region where the meteor crosses the impact region, so we won't be hit! However, it starts to diverge when predicting for new values we haven't trained for. This shows neural networks learn according to the data they are fed with. Data quality and diversity are very important!"
   ]
  }
 ],
 "metadata": {
  "colab": {
   "provenance": []
  },
  "kernelspec": {
   "name": "python3",
   "language": "python",
   "display_name": "Python 3 (ipykernel)"
  },
  "language_info": {
   "name": "python"
  }
 },
 "nbformat": 4,
 "nbformat_minor": 0
}
