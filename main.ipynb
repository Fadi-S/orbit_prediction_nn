{
 "cells": [
  {
   "cell_type": "code",
   "execution_count": 437,
   "id": "initial_id",
   "metadata": {
    "collapsed": true,
    "ExecuteTime": {
     "end_time": "2024-03-01T10:39:53.283677Z",
     "start_time": "2024-03-01T10:39:53.272178Z"
    }
   },
   "outputs": [],
   "source": [
    "import numpy as np\n",
    "import pandas as pd\n",
    "import matplotlib.pyplot as plt\n",
    "\n",
    "plt.rcParams['figure.figsize'] = (8, 8)"
   ]
  },
  {
   "cell_type": "code",
   "execution_count": 438,
   "outputs": [
    {
     "name": "stdout",
     "output_type": "stream",
     "text": [
      "Original Data:\n",
      "   time_steps           y\n",
      "0  -10.000000  100.000000\n",
      "1   -9.989995   99.800000\n",
      "2   -9.979990   99.600200\n",
      "3   -9.969985   99.400601\n",
      "4   -9.959980   99.201201\n"
     ]
    }
   ],
   "source": [
    "file_name = \"orbit.csv\"\n",
    "data = pd.read_csv(file_name)\n",
    "\n",
    "print(\"Original Data:\")\n",
    "print(data.head())"
   ],
   "metadata": {
    "collapsed": false,
    "ExecuteTime": {
     "end_time": "2024-03-01T10:39:53.283989Z",
     "start_time": "2024-03-01T10:39:53.276831Z"
    }
   },
   "id": "33d729024e037870"
  },
  {
   "cell_type": "code",
   "execution_count": 439,
   "outputs": [],
   "source": [
    "from sklearn.model_selection import train_test_split\n",
    "\n",
    "time_steps = data['time_steps'].to_numpy()\n",
    "y_positions = data['y'].to_numpy()\n",
    "\n",
    "X_train, X_val, y_train, y_val = train_test_split(time_steps, y_positions, test_size=0.2, random_state=42)"
   ],
   "metadata": {
    "collapsed": false,
    "ExecuteTime": {
     "end_time": "2024-03-01T10:39:53.288977Z",
     "start_time": "2024-03-01T10:39:53.285165Z"
    }
   },
   "id": "22768dff70d147a9"
  },
  {
   "cell_type": "markdown",
   "source": [
    "# Neural Network Architecture\n",
    "\n",
    "## Number of layers\n",
    "The model has 6 layers, 5 hidden layers and 1 output layer.\n",
    "By adding more layers, the model can have better generalization.\n",
    "\n",
    "## Dropout and batch normalization\n",
    "Added dropout to reduce overfitting and improve predections.\n",
    "Added batch normalization to speed up the training process.\n",
    "\n",
    "By adding dropout we ensured that the model won't overfit the training data, because we only have 2000 points from -10 to 10.\n",
    "Therefore, the model needs to be able to generalize to make accurate predictions for all the range from -40 to 40.\n",
    "\n",
    "Also, by adding batch normalization, we speed up the training process because it normalizes the input layer to make the mean 0 and the standard deviation 1.\n",
    "Doing that stabilizes the learning process and reduces the number of epochs needed to train the model because we can use a larger learning rate.\n"
   ],
   "metadata": {
    "collapsed": false
   },
   "id": "4926841f6646eb97"
  },
  {
   "cell_type": "code",
   "execution_count": 440,
   "outputs": [],
   "source": [
    "from tensorflow.keras.models import Sequential\n",
    "from tensorflow.keras.layers import Dense, Dropout, BatchNormalization\n",
    "from tensorflow.keras.callbacks import EarlyStopping\n",
    "\n",
    "model = Sequential()\n",
    "\n",
    "model.add(Dense(256, input_shape=(1, ), activation='relu'))\n",
    "model.add(BatchNormalization())\n",
    "model.add(Dropout(0.2))\n",
    "\n",
    "model.add(Dense(128, activation='relu'))\n",
    "model.add(BatchNormalization())\n",
    "model.add(Dropout(0.3))\n",
    "\n",
    "model.add(Dense(128, activation='relu'))\n",
    "model.add(BatchNormalization())\n",
    "model.add(Dropout(0.3))\n",
    "\n",
    "model.add(Dense(128, activation='relu'))\n",
    "model.add(BatchNormalization())\n",
    "model.add(Dropout(0.3))\n",
    "\n",
    "model.add(Dense(64, activation='relu'))\n",
    "model.add(BatchNormalization())\n",
    "\n",
    "model.add(Dense(1))"
   ],
   "metadata": {
    "collapsed": false,
    "ExecuteTime": {
     "end_time": "2024-03-01T10:39:53.374334Z",
     "start_time": "2024-03-01T10:39:53.291820Z"
    }
   },
   "id": "360bf23acd5935d"
  },
  {
   "cell_type": "markdown",
   "source": [
    "## Learning rate and decay\n",
    "By adjusting the learning rate and decay, the model's performance can be improved.\n",
    "\n",
    "Increased the learning rate helps the model to converge faster.\n",
    "Decay is used to reduce the learning rate over time, which helps the model to converge to a local minimum."
   ],
   "metadata": {
    "collapsed": false
   },
   "id": "8fc5de5f60f8fcbc"
  },
  {
   "cell_type": "code",
   "execution_count": 441,
   "outputs": [],
   "source": [
    "from tensorflow.keras.optimizers.legacy import Adam\n",
    "\n",
    "optimizer = Adam(learning_rate=0.00125, decay=0.0001)\n",
    "\n",
    "model.compile(optimizer=optimizer, loss='mse')"
   ],
   "metadata": {
    "collapsed": false,
    "ExecuteTime": {
     "end_time": "2024-03-01T10:39:53.379160Z",
     "start_time": "2024-03-01T10:39:53.376154Z"
    }
   },
   "id": "d9d673a7afa021a"
  },
  {
   "cell_type": "markdown",
   "source": [
    "## Early stopping and epochs\n",
    "Increased the number of epochs to 200 and added early stopping to prevent overfitting.\n",
    "\n",
    "Added early stopping with patience 25 to prevent overfitting and to stop the training process when the loss value stops decreasing."
   ],
   "metadata": {
    "collapsed": false
   },
   "id": "2b3d83c633c41eb"
  },
  {
   "cell_type": "code",
   "execution_count": 442,
   "outputs": [
    {
     "name": "stdout",
     "output_type": "stream",
     "text": [
      "Epoch 1/200\n",
      "50/50 [==============================] - 0s 3ms/step - loss: 1627.5231 - val_loss: 1214.3062\n",
      "Epoch 2/200\n",
      "50/50 [==============================] - 0s 1ms/step - loss: 1258.3516 - val_loss: 1406.1868\n",
      "Epoch 3/200\n",
      "50/50 [==============================] - 0s 1ms/step - loss: 1039.6903 - val_loss: 1772.1067\n",
      "Epoch 4/200\n",
      "50/50 [==============================] - 0s 1ms/step - loss: 858.4207 - val_loss: 2132.9722\n",
      "Epoch 5/200\n",
      "50/50 [==============================] - 0s 1ms/step - loss: 711.4124 - val_loss: 2082.4573\n",
      "Epoch 6/200\n",
      "50/50 [==============================] - 0s 1ms/step - loss: 559.7410 - val_loss: 2052.9448\n",
      "Epoch 7/200\n",
      "50/50 [==============================] - 0s 1ms/step - loss: 454.2601 - val_loss: 1548.2097\n",
      "Epoch 8/200\n",
      "50/50 [==============================] - 0s 1ms/step - loss: 360.1381 - val_loss: 1189.8772\n",
      "Epoch 9/200\n",
      "50/50 [==============================] - 0s 1ms/step - loss: 283.4463 - val_loss: 777.1856\n",
      "Epoch 10/200\n",
      "50/50 [==============================] - 0s 1ms/step - loss: 189.1489 - val_loss: 608.3746\n",
      "Epoch 11/200\n",
      "50/50 [==============================] - 0s 1ms/step - loss: 137.8937 - val_loss: 371.7542\n",
      "Epoch 12/200\n",
      "50/50 [==============================] - 0s 1ms/step - loss: 106.2617 - val_loss: 289.7390\n",
      "Epoch 13/200\n",
      "50/50 [==============================] - 0s 1ms/step - loss: 84.4636 - val_loss: 149.2080\n",
      "Epoch 14/200\n",
      "50/50 [==============================] - 0s 1ms/step - loss: 78.7893 - val_loss: 46.6362\n",
      "Epoch 15/200\n",
      "50/50 [==============================] - 0s 1ms/step - loss: 65.1436 - val_loss: 69.9953\n",
      "Epoch 16/200\n",
      "50/50 [==============================] - 0s 1ms/step - loss: 55.4707 - val_loss: 40.3407\n",
      "Epoch 17/200\n",
      "50/50 [==============================] - 0s 1ms/step - loss: 48.7736 - val_loss: 19.7905\n",
      "Epoch 18/200\n",
      "50/50 [==============================] - 0s 1ms/step - loss: 54.7172 - val_loss: 15.2060\n",
      "Epoch 19/200\n",
      "50/50 [==============================] - 0s 1ms/step - loss: 53.7665 - val_loss: 65.2546\n",
      "Epoch 20/200\n",
      "50/50 [==============================] - 0s 1ms/step - loss: 52.2852 - val_loss: 2.9152\n",
      "Epoch 21/200\n",
      "50/50 [==============================] - 0s 1ms/step - loss: 56.3262 - val_loss: 42.9888\n",
      "Epoch 22/200\n",
      "50/50 [==============================] - 0s 1ms/step - loss: 65.3337 - val_loss: 66.4521\n",
      "Epoch 23/200\n",
      "50/50 [==============================] - 0s 1ms/step - loss: 60.4277 - val_loss: 17.0859\n",
      "Epoch 24/200\n",
      "50/50 [==============================] - 0s 1ms/step - loss: 59.0887 - val_loss: 15.8991\n",
      "Epoch 25/200\n",
      "50/50 [==============================] - 0s 1ms/step - loss: 58.2720 - val_loss: 35.6375\n",
      "Epoch 26/200\n",
      "50/50 [==============================] - 0s 1ms/step - loss: 56.1519 - val_loss: 15.3372\n",
      "Epoch 27/200\n",
      "50/50 [==============================] - 0s 1ms/step - loss: 43.3867 - val_loss: 13.9414\n",
      "Epoch 28/200\n",
      "50/50 [==============================] - 0s 1ms/step - loss: 49.0446 - val_loss: 27.2343\n",
      "Epoch 29/200\n",
      "50/50 [==============================] - 0s 1ms/step - loss: 60.5238 - val_loss: 7.5891\n",
      "Epoch 30/200\n",
      "50/50 [==============================] - 0s 1ms/step - loss: 37.1784 - val_loss: 16.0804\n",
      "Epoch 31/200\n",
      "50/50 [==============================] - 0s 1ms/step - loss: 63.5868 - val_loss: 4.8438\n",
      "Epoch 32/200\n",
      "50/50 [==============================] - 0s 1ms/step - loss: 43.3321 - val_loss: 10.8666\n",
      "Epoch 33/200\n",
      "50/50 [==============================] - 0s 1ms/step - loss: 66.2166 - val_loss: 12.7753\n",
      "Epoch 34/200\n",
      "50/50 [==============================] - 0s 1ms/step - loss: 54.9558 - val_loss: 2.8366\n",
      "Epoch 35/200\n",
      "50/50 [==============================] - 0s 1ms/step - loss: 42.5051 - val_loss: 5.4443\n",
      "Epoch 36/200\n",
      "50/50 [==============================] - 0s 1ms/step - loss: 45.9189 - val_loss: 11.9185\n",
      "Epoch 37/200\n",
      "50/50 [==============================] - 0s 1ms/step - loss: 50.0293 - val_loss: 4.7457\n",
      "Epoch 38/200\n",
      "50/50 [==============================] - 0s 1ms/step - loss: 47.8891 - val_loss: 14.8054\n",
      "Epoch 39/200\n",
      "50/50 [==============================] - 0s 1ms/step - loss: 40.4610 - val_loss: 6.7116\n",
      "Epoch 40/200\n",
      "50/50 [==============================] - 0s 1ms/step - loss: 44.5834 - val_loss: 2.5686\n",
      "Epoch 41/200\n",
      "50/50 [==============================] - 0s 1ms/step - loss: 55.6165 - val_loss: 8.3264\n",
      "Epoch 42/200\n",
      "50/50 [==============================] - 0s 1ms/step - loss: 36.6806 - val_loss: 16.8608\n",
      "Epoch 43/200\n",
      "50/50 [==============================] - 0s 2ms/step - loss: 43.5372 - val_loss: 4.5955\n",
      "Epoch 44/200\n",
      "50/50 [==============================] - 0s 1ms/step - loss: 38.2706 - val_loss: 9.7812\n",
      "Epoch 45/200\n",
      "50/50 [==============================] - 0s 1ms/step - loss: 48.5951 - val_loss: 14.8621\n",
      "Epoch 46/200\n",
      "50/50 [==============================] - 0s 1ms/step - loss: 58.1530 - val_loss: 9.2217\n",
      "Epoch 47/200\n",
      "50/50 [==============================] - 0s 1ms/step - loss: 54.2659 - val_loss: 14.8611\n",
      "Epoch 48/200\n",
      "50/50 [==============================] - 0s 1ms/step - loss: 37.8038 - val_loss: 13.4812\n",
      "Epoch 49/200\n",
      "50/50 [==============================] - 0s 1ms/step - loss: 63.1976 - val_loss: 5.1014\n",
      "Epoch 50/200\n",
      "50/50 [==============================] - 0s 1ms/step - loss: 45.7106 - val_loss: 7.8367\n",
      "Epoch 51/200\n",
      "50/50 [==============================] - 0s 1ms/step - loss: 41.2556 - val_loss: 9.0108\n",
      "Epoch 52/200\n",
      "50/50 [==============================] - 0s 1ms/step - loss: 54.8541 - val_loss: 3.0740\n",
      "Epoch 53/200\n",
      "50/50 [==============================] - 0s 2ms/step - loss: 47.2435 - val_loss: 7.2651\n",
      "Epoch 54/200\n",
      "50/50 [==============================] - 0s 1ms/step - loss: 53.5874 - val_loss: 3.0941\n",
      "Epoch 55/200\n",
      "50/50 [==============================] - 0s 1ms/step - loss: 36.3707 - val_loss: 33.8468\n",
      "Epoch 56/200\n",
      "50/50 [==============================] - 0s 1ms/step - loss: 52.5230 - val_loss: 12.2901\n",
      "Epoch 57/200\n",
      "50/50 [==============================] - 0s 1ms/step - loss: 50.6660 - val_loss: 6.4013\n",
      "Epoch 58/200\n",
      "50/50 [==============================] - 0s 1ms/step - loss: 38.4074 - val_loss: 11.8610\n",
      "Epoch 59/200\n",
      "50/50 [==============================] - 0s 1ms/step - loss: 42.4490 - val_loss: 3.9190\n",
      "Epoch 60/200\n",
      "50/50 [==============================] - 0s 1ms/step - loss: 51.0640 - val_loss: 7.5306\n",
      "Epoch 61/200\n",
      "50/50 [==============================] - 0s 1ms/step - loss: 49.3265 - val_loss: 11.4640\n",
      "Epoch 62/200\n",
      "50/50 [==============================] - 0s 1ms/step - loss: 51.4516 - val_loss: 5.7197\n",
      "Epoch 63/200\n",
      "50/50 [==============================] - 0s 1ms/step - loss: 48.4725 - val_loss: 3.1370\n",
      "Epoch 64/200\n",
      "50/50 [==============================] - 0s 1ms/step - loss: 49.1688 - val_loss: 13.6185\n",
      "Epoch 65/200\n",
      "50/50 [==============================] - 0s 1ms/step - loss: 53.4338 - val_loss: 20.1366\n",
      "Epoch 66/200\n",
      "50/50 [==============================] - 0s 1ms/step - loss: 59.6385 - val_loss: 4.1554\n",
      "Epoch 67/200\n",
      "50/50 [==============================] - 0s 1ms/step - loss: 39.1100 - val_loss: 7.6740\n",
      "Epoch 68/200\n",
      "50/50 [==============================] - 0s 1ms/step - loss: 35.8144 - val_loss: 8.6805\n",
      "Epoch 69/200\n",
      "50/50 [==============================] - 0s 1ms/step - loss: 32.5682 - val_loss: 5.2847\n",
      "Epoch 70/200\n",
      "50/50 [==============================] - 0s 1ms/step - loss: 36.9327 - val_loss: 1.4258\n",
      "Epoch 71/200\n",
      "50/50 [==============================] - 0s 1ms/step - loss: 37.6498 - val_loss: 3.4305\n",
      "Epoch 72/200\n",
      "50/50 [==============================] - 0s 1ms/step - loss: 48.3306 - val_loss: 6.1743\n",
      "Epoch 73/200\n",
      "50/50 [==============================] - 0s 1ms/step - loss: 66.5812 - val_loss: 6.6850\n",
      "Epoch 74/200\n",
      "50/50 [==============================] - 0s 1ms/step - loss: 45.8271 - val_loss: 7.3784\n",
      "Epoch 75/200\n",
      "50/50 [==============================] - 0s 1ms/step - loss: 46.4981 - val_loss: 5.8326\n",
      "Epoch 76/200\n",
      "50/50 [==============================] - 0s 1ms/step - loss: 54.1939 - val_loss: 9.3874\n",
      "Epoch 77/200\n",
      "50/50 [==============================] - 0s 1ms/step - loss: 50.9037 - val_loss: 6.8826\n",
      "Epoch 78/200\n",
      "50/50 [==============================] - 0s 1ms/step - loss: 53.3123 - val_loss: 5.3528\n",
      "Epoch 79/200\n",
      "50/50 [==============================] - 0s 1ms/step - loss: 44.1806 - val_loss: 17.7192\n",
      "Epoch 80/200\n",
      "50/50 [==============================] - 0s 1ms/step - loss: 40.0918 - val_loss: 12.4642\n",
      "Epoch 81/200\n",
      "50/50 [==============================] - 0s 1ms/step - loss: 49.7442 - val_loss: 7.7646\n",
      "Epoch 82/200\n",
      "50/50 [==============================] - 0s 1ms/step - loss: 42.6629 - val_loss: 1.2493\n",
      "Epoch 83/200\n",
      "50/50 [==============================] - 0s 1ms/step - loss: 49.2900 - val_loss: 15.5582\n",
      "Epoch 84/200\n",
      "50/50 [==============================] - 0s 1ms/step - loss: 57.5730 - val_loss: 6.4967\n",
      "Epoch 85/200\n",
      "50/50 [==============================] - 0s 1ms/step - loss: 47.5001 - val_loss: 1.6300\n",
      "Epoch 86/200\n",
      "50/50 [==============================] - 0s 1ms/step - loss: 38.4454 - val_loss: 4.5560\n",
      "Epoch 87/200\n",
      "50/50 [==============================] - 0s 1ms/step - loss: 48.3124 - val_loss: 4.7252\n",
      "Epoch 88/200\n",
      "50/50 [==============================] - 0s 1ms/step - loss: 47.3179 - val_loss: 2.1600\n",
      "Epoch 89/200\n",
      "50/50 [==============================] - 0s 1ms/step - loss: 45.3955 - val_loss: 2.9129\n",
      "Epoch 90/200\n",
      "50/50 [==============================] - 0s 1ms/step - loss: 45.8789 - val_loss: 4.9311\n",
      "Epoch 91/200\n",
      "50/50 [==============================] - 0s 1ms/step - loss: 46.6722 - val_loss: 12.6335\n",
      "Epoch 92/200\n",
      "50/50 [==============================] - 0s 1ms/step - loss: 45.4851 - val_loss: 8.8651\n",
      "Epoch 93/200\n",
      "50/50 [==============================] - 0s 1ms/step - loss: 33.8037 - val_loss: 1.6199\n",
      "Epoch 94/200\n",
      "50/50 [==============================] - 0s 1ms/step - loss: 44.1963 - val_loss: 3.7399\n",
      "13/13 [==============================] - 0s 529us/step - loss: 5.2847\n",
      "Final loss value: 5.284696578979492\n"
     ]
    }
   ],
   "source": [
    "early_stopping = EarlyStopping(monitor='loss', patience=25, restore_best_weights=True)\n",
    "\n",
    "model.fit(X_train, y_train, validation_split=0.2, validation_data=(X_val, y_val), epochs=200, callbacks=[early_stopping])\n",
    "\n",
    "print(\"Final loss value:\", model.evaluate(X_val, y_val))"
   ],
   "metadata": {
    "collapsed": false,
    "ExecuteTime": {
     "end_time": "2024-03-01T10:40:00.572659Z",
     "start_time": "2024-03-01T10:39:53.381616Z"
    }
   },
   "id": "6030a61eb22ca92a"
  },
  {
   "cell_type": "code",
   "execution_count": 443,
   "outputs": [],
   "source": [
    "def plot_orbit(model_preds, y_axis=550):\n",
    "    axeslim = int(len(model_preds) / 2)\n",
    "    plt.plot(np.arange(-axeslim, axeslim), np.arange(-axeslim, axeslim) ** 2,\n",
    "             color=\"mediumslateblue\")\n",
    "    plt.plot(np.arange(-axeslim, axeslim),model_preds,color=\"orange\")\n",
    "    plt.axis((-40, 40, -5, y_axis))\n",
    "    plt.legend([\"Scientist's Orbit\", 'Your orbit'],loc=\"lower left\")\n",
    "    plt.title(\"Predicted orbit vs Scientist's Orbit\")"
   ],
   "metadata": {
    "collapsed": false,
    "ExecuteTime": {
     "end_time": "2024-03-01T10:40:00.574867Z",
     "start_time": "2024-03-01T10:40:00.573233Z"
    }
   },
   "id": "9cc6282a04c14ae4"
  },
  {
   "cell_type": "code",
   "execution_count": 450,
   "outputs": [
    {
     "name": "stdout",
     "output_type": "stream",
     "text": [
      "3/3 [==============================] - 0s 2ms/step\n"
     ]
    },
    {
     "data": {
      "text/plain": "<Figure size 800x800 with 1 Axes>",
      "image/png": "[encoded data removed]"
     },
     "metadata": {},
     "output_type": "display_data"
    }
   ],
   "source": [
    "eighty_min_orbit = model.predict(np.arange(-40, 40))\n",
    "\n",
    "plot_orbit(eighty_min_orbit, 550)"
   ],
   "metadata": {
    "collapsed": false,
    "ExecuteTime": {
     "end_time": "2024-03-01T10:57:11.124461Z",
     "start_time": "2024-03-01T10:57:10.823990Z"
    }
   },
   "id": "e727ed306b0216cf"
  },
  {
   "cell_type": "code",
   "execution_count": 445,
   "outputs": [],
   "source": [
    "model.save('model.keras')"
   ],
   "metadata": {
    "collapsed": false,
    "ExecuteTime": {
     "end_time": "2024-03-01T10:40:00.769299Z",
     "start_time": "2024-03-01T10:40:00.750369Z"
    }
   },
   "id": "908d337d9ac5735c"
  }
 ],
 "metadata": {
  "kernelspec": {
   "display_name": "Python 3",
   "language": "python",
   "name": "python3"
  },
  "language_info": {
   "codemirror_mode": {
    "name": "ipython",
    "version": 2
   },
   "file_extension": ".py",
   "mimetype": "text/x-python",
   "name": "python",
   "nbconvert_exporter": "python",
   "pygments_lexer": "ipython2",
   "version": "2.7.6"
  }
 },
 "nbformat": 4,
 "nbformat_minor": 5
}
